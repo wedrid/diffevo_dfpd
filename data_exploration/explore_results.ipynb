{
 "cells": [
  {
   "cell_type": "code",
   "execution_count": 1,
   "source": [
    "print(\"Hello\")"
   ],
   "outputs": [
    {
     "output_type": "stream",
     "name": "stdout",
     "text": [
      "Hello\n"
     ]
    }
   ],
   "metadata": {}
  },
  {
   "cell_type": "code",
   "execution_count": 2,
   "source": [
    "   '''\n",
    "Year = [1920,1930,1940,1950,1960,1970,1980,1990,2000,2010]\n",
    "Unemployment_Rate = [9.8,12,8,7.2,6.9,7,6.5,6.2,5.5,6.3]\n",
    "plt.plot(Year, Unemployment_Rate)\n",
    "\n",
    "Year = [1920,1930,1940,1950,1960,1970,1980,1990,2000,2010]\n",
    "Unemployment_Rate = [9,3,4,1.2,10,3,5,9,5.5,6.3]\n",
    "plt.plot(Year, Unemployment_Rate)\n",
    "\n",
    "plt.title('Unemployment Rate Vs Year')\n",
    "plt.xlabel('Year')\n",
    "plt.ylabel('Unemployment Rate')\n",
    "plt.show()'''"
   ],
   "outputs": [
    {
     "output_type": "execute_result",
     "data": {
      "text/plain": [
       "\"\\nYear = [1920,1930,1940,1950,1960,1970,1980,1990,2000,2010]\\nUnemployment_Rate = [9.8,12,8,7.2,6.9,7,6.5,6.2,5.5,6.3]\\nplt.plot(Year, Unemployment_Rate)\\n\\nYear = [1920,1930,1940,1950,1960,1970,1980,1990,2000,2010]\\nUnemployment_Rate = [9,3,4,1.2,10,3,5,9,5.5,6.3]\\nplt.plot(Year, Unemployment_Rate)\\n\\nplt.title('Unemployment Rate Vs Year')\\nplt.xlabel('Year')\\nplt.ylabel('Unemployment Rate')\\nplt.show()\""
      ]
     },
     "metadata": {},
     "execution_count": 2
    }
   ],
   "metadata": {}
  },
  {
   "cell_type": "code",
   "execution_count": 3,
   "source": [
    "import pickle\n",
    "#version1housing_datasaver-2021-04-20at23-06_Randomized.pickle\n",
    "#version1servo_datasaver-2021-04-20at23-08_Randomized.pickle\n",
    "#version2housing_datasaver-2021-04-20at23-06_Randomized.pickle\n",
    "#version2servo_datasaver-2021-04-20at23-08_Randomized.pickle\n",
    "\n",
    "with open(\"version2housing_datasaver-2021-04-20at23-06_Randomized.pickle\", \"rb\") as file: \n",
    "    data = pickle.load(file)"
   ],
   "outputs": [],
   "metadata": {}
  },
  {
   "cell_type": "code",
   "execution_count": 4,
   "source": [
    "for item in data: \n",
    "    print(item)"
   ],
   "outputs": [
    {
     "output_type": "stream",
     "name": "stdout",
     "text": [
      "type\n",
      "epochs_saver\n",
      "elapsed\n",
      "exit_reason\n",
      "should_exit_history\n",
      "final_population\n"
     ]
    }
   ],
   "metadata": {}
  },
  {
   "cell_type": "code",
   "execution_count": 5,
   "source": [
    "epoche = data['epochs_saver']\n",
    "print(len(epoche))"
   ],
   "outputs": [
    {
     "output_type": "stream",
     "name": "stdout",
     "text": [
      "173\n"
     ]
    }
   ],
   "metadata": {}
  },
  {
   "cell_type": "code",
   "execution_count": 6,
   "source": [
    "epoca = epoche[-1]\n",
    "for item in epoca: \n",
    "    print(item)"
   ],
   "outputs": [
    {
     "output_type": "stream",
     "name": "stdout",
     "text": [
      "epoca\n",
      "current_population\n",
      "current_population_fvalues\n"
     ]
    }
   ],
   "metadata": {}
  },
  {
   "cell_type": "code",
   "execution_count": 7,
   "source": [
    "f_values = epoca['current_population_fvalues']\n",
    "print(f_values)"
   ],
   "outputs": [
    {
     "output_type": "stream",
     "name": "stdout",
     "text": [
      "[73.54655055916808, 73.54658619726735, 73.54657469607349, 73.54653869188138, 73.54659247200223, 73.54656156897576, 73.54651138230304, 73.54653601543328, 73.5464635833577, 73.54655930546429, 73.54647075199352, 73.54659962442318, 73.54657260097781, 73.5464325785826, 73.54650461181228, 73.54649552423368, 73.54657583837144, 73.54650557636691, 73.54645266068582, 73.54647783975958, 73.54645926678205, 73.54646188315058, 73.54654768403566, 73.54643547564382, 73.54653702821423, 73.5465349350888, 73.54650900585705, 73.54649431891602, 73.54658199356152, 73.54651029487837]\n"
     ]
    }
   ],
   "metadata": {}
  },
  {
   "cell_type": "code",
   "execution_count": 8,
   "source": [
    "len(f_values) #30 fvalues per l'epoca perchè la popolazione è di 30 elementi"
   ],
   "outputs": [
    {
     "output_type": "execute_result",
     "data": {
      "text/plain": [
       "30"
      ]
     },
     "metadata": {},
     "execution_count": 8
    }
   ],
   "metadata": {}
  },
  {
   "cell_type": "code",
   "execution_count": 9,
   "source": [
    "#now I get all the fvalues\n",
    "all_fvalues = []\n",
    "for epoca in epoche:\n",
    "    fvalues = epoca['current_population_fvalues']\n",
    "    all_fvalues.append(fvalues.copy())"
   ],
   "outputs": [],
   "metadata": {}
  },
  {
   "cell_type": "code",
   "execution_count": 10,
   "source": [
    "import numpy as np\n",
    "all_fvalues_T = np.array(all_fvalues).T.tolist()"
   ],
   "outputs": [],
   "metadata": {}
  },
  {
   "cell_type": "code",
   "execution_count": 11,
   "source": [
    "len(all_fvalues_T)"
   ],
   "outputs": [
    {
     "output_type": "execute_result",
     "data": {
      "text/plain": [
       "30"
      ]
     },
     "metadata": {},
     "execution_count": 11
    }
   ],
   "metadata": {}
  },
  {
   "cell_type": "code",
   "execution_count": 12,
   "source": [
    "len(all_fvalues_T[1]) #rows are individuals, columns are the epochs"
   ],
   "outputs": [
    {
     "output_type": "execute_result",
     "data": {
      "text/plain": [
       "173"
      ]
     },
     "metadata": {},
     "execution_count": 12
    }
   ],
   "metadata": {}
  },
  {
   "cell_type": "code",
   "execution_count": 13,
   "source": [
    "print()"
   ],
   "outputs": [
    {
     "output_type": "stream",
     "name": "stdout",
     "text": [
      "\n"
     ]
    }
   ],
   "metadata": {}
  },
  {
   "cell_type": "code",
   "execution_count": 14,
   "source": [
    "#FIXME\n",
    "import matplotlib.pyplot as plt\n",
    "\n",
    "from matplotlib.pyplot import figure\n",
    "plt.figure(figsize=(20, 5))\n",
    "\n",
    "i = 0\n",
    "zoom = 100\n",
    "for item in all_fvalues_T:\n",
    "    #print(item)\n",
    "    \n",
    "    plt.plot(range(0,zoom), item[0:zoom]) #invece di range(0, const) sarebbe meglio len(all_fvalues_T[1]), ma mettendo una const riesco a zoommare\n",
    "\n",
    "#TODO limit the epochs to 50? 100?\n",
    "\n",
    "plt.show()"
   ],
   "outputs": [
    {
     "output_type": "display_data",
     "data": {
      "image/png": "[encoded data removed]",
      "text/plain": [
       "<Figure size 1440x360 with 1 Axes>"
      ]
     },
     "metadata": {
      "needs_background": "light"
     }
    }
   ],
   "metadata": {}
  },
  {
   "cell_type": "code",
   "execution_count": 15,
   "source": [
    "from matplotlib.pyplot import figure\n",
    "plt.figure(figsize=(20, 5), dpi=80)\n",
    "exit_history = data['should_exit_history']\n",
    "\n",
    "zoom = 3000\n",
    "plt.plot(range(0, len(exit_history)), exit_history)\n",
    "\n",
    "plt.show()"
   ],
   "outputs": [
    {
     "output_type": "display_data",
     "data": {
      "image/png": "[encoded data removed]",
      "text/plain": [
       "<Figure size 1600x400 with 1 Axes>"
      ]
     },
     "metadata": {
      "needs_background": "light"
     }
    }
   ],
   "metadata": {}
  },
  {
   "cell_type": "code",
   "execution_count": 16,
   "source": [
    "data['final_population'][:,0]"
   ],
   "outputs": [
    {
     "output_type": "execute_result",
     "data": {
      "text/plain": [
       "array([ 0.        ,  0.        ,  0.        ,  0.        , -0.25438111,\n",
       "        0.30878531,  0.        , -0.27556949,  0.0542948 ,  0.        ,\n",
       "       -0.26434492,  0.        , -0.45750004])"
      ]
     },
     "metadata": {},
     "execution_count": 16
    }
   ],
   "metadata": {}
  },
  {
   "cell_type": "code",
   "execution_count": 17,
   "source": [
    "np.savetxt(\"mydata.csv\", data['final_population'])"
   ],
   "outputs": [],
   "metadata": {}
  },
  {
   "cell_type": "code",
   "execution_count": 18,
   "source": [
    "'''import matplotlib.pyplot as plt\n",
    "from matplotlib.pyplot import figure\n",
    "\n",
    "\n",
    "import numpy as np\n",
    "\n",
    "from matplotlib.pyplot import figure\n",
    "dat = data['final_population']\n",
    "\n",
    "fig, ax = plt.subplots(figsize=(15, 15), dpi=80)\n",
    "# Using matshow here just because it sets the ticks up nicely. imshow is faster.\n",
    "ax.matshow(dat, cmap='seismic')\n",
    "\n",
    "for (i, j), z in np.ndenumerate(dat):\n",
    "    ax.text(j, i, '{:0.1f}'.format(z), ha='center', va='center',\n",
    "            bbox=dict(boxstyle='round', facecolor='white', edgecolor='0.3'))\n",
    "plt.show()'''"
   ],
   "outputs": [
    {
     "output_type": "execute_result",
     "data": {
      "text/plain": [
       "\"import matplotlib.pyplot as plt\\nfrom matplotlib.pyplot import figure\\n\\n\\nimport numpy as np\\n\\nfrom matplotlib.pyplot import figure\\ndat = data['final_population']\\n\\nfig, ax = plt.subplots(figsize=(15, 15), dpi=80)\\n# Using matshow here just because it sets the ticks up nicely. imshow is faster.\\nax.matshow(dat, cmap='seismic')\\n\\nfor (i, j), z in np.ndenumerate(dat):\\n    ax.text(j, i, '{:0.1f}'.format(z), ha='center', va='center',\\n            bbox=dict(boxstyle='round', facecolor='white', edgecolor='0.3'))\\nplt.show()\""
      ]
     },
     "metadata": {},
     "execution_count": 18
    }
   ],
   "metadata": {}
  }
 ],
 "metadata": {
  "kernelspec": {
   "name": "python3",
   "display_name": "Python 3.8.10 64-bit"
  },
  "language_info": {
   "codemirror_mode": {
    "name": "ipython",
    "version": 3
   },
   "file_extension": ".py",
   "mimetype": "text/x-python",
   "name": "python",
   "nbconvert_exporter": "python",
   "pygments_lexer": "ipython3",
   "version": "3.8.10"
  },
  "metadata": {
   "interpreter": {
    "hash": "aee8b7b246df8f9039afb4144a1f6fd8d2ca17a180786b69acc140d282b71a49"
   }
  },
  "orig_nbformat": 2,
  "interpreter": {
   "hash": "aee8b7b246df8f9039afb4144a1f6fd8d2ca17a180786b69acc140d282b71a49"
  }
 },
 "nbformat": 4,
 "nbformat_minor": 2
}